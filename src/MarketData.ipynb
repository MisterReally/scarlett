{
 "metadata": {
  "language_info": {
   "codemirror_mode": {
    "name": "ipython",
    "version": 3
   },
   "file_extension": ".py",
   "mimetype": "text/x-python",
   "name": "python",
   "nbconvert_exporter": "python",
   "pygments_lexer": "ipython3",
   "version": 3
  },
  "orig_nbformat": 2,
  "kernelspec": {
   "name": "python_defaultSpec_1595835188338",
   "display_name": "Python 3.7.4 64-bit"
  }
 },
 "nbformat": 4,
 "nbformat_minor": 2,
 "cells": [
  {
   "cell_type": "code",
   "execution_count": 1,
   "metadata": {},
   "outputs": [],
   "source": [
    "from MarketData import BrokerData"
   ]
  },
  {
   "cell_type": "code",
   "execution_count": 2,
   "metadata": {},
   "outputs": [],
   "source": [
    "bd = BrokerData(None)"
   ]
  },
  {
   "cell_type": "code",
   "execution_count": 3,
   "metadata": {},
   "outputs": [
    {
     "output_type": "execute_result",
     "data": {
      "text/plain": "         Date  Dividends\n0  1987-05-11    0.00214\n1  1987-06-16    0.00000\n2  1987-08-10    0.00214\n3  1987-11-17    0.00286\n4  1988-02-12    0.00286\n..        ...        ...\n66 2019-05-10    0.77000\n67 2019-08-09    0.77000\n68 2019-11-07    0.77000\n69 2020-02-07    0.77000\n70 2020-05-08    0.82000\n\n[71 rows x 2 columns]",
      "text/html": "<div>\n<style scoped>\n    .dataframe tbody tr th:only-of-type {\n        vertical-align: middle;\n    }\n\n    .dataframe tbody tr th {\n        vertical-align: top;\n    }\n\n    .dataframe thead th {\n        text-align: right;\n    }\n</style>\n<table border=\"1\" class=\"dataframe\">\n  <thead>\n    <tr style=\"text-align: right;\">\n      <th></th>\n      <th>Date</th>\n      <th>Dividends</th>\n    </tr>\n  </thead>\n  <tbody>\n    <tr>\n      <th>0</th>\n      <td>1987-05-11</td>\n      <td>0.00214</td>\n    </tr>\n    <tr>\n      <th>1</th>\n      <td>1987-06-16</td>\n      <td>0.00000</td>\n    </tr>\n    <tr>\n      <th>2</th>\n      <td>1987-08-10</td>\n      <td>0.00214</td>\n    </tr>\n    <tr>\n      <th>3</th>\n      <td>1987-11-17</td>\n      <td>0.00286</td>\n    </tr>\n    <tr>\n      <th>4</th>\n      <td>1988-02-12</td>\n      <td>0.00286</td>\n    </tr>\n    <tr>\n      <th>...</th>\n      <td>...</td>\n      <td>...</td>\n    </tr>\n    <tr>\n      <th>66</th>\n      <td>2019-05-10</td>\n      <td>0.77000</td>\n    </tr>\n    <tr>\n      <th>67</th>\n      <td>2019-08-09</td>\n      <td>0.77000</td>\n    </tr>\n    <tr>\n      <th>68</th>\n      <td>2019-11-07</td>\n      <td>0.77000</td>\n    </tr>\n    <tr>\n      <th>69</th>\n      <td>2020-02-07</td>\n      <td>0.77000</td>\n    </tr>\n    <tr>\n      <th>70</th>\n      <td>2020-05-08</td>\n      <td>0.82000</td>\n    </tr>\n  </tbody>\n</table>\n<p>71 rows × 2 columns</p>\n</div>"
     },
     "metadata": {},
     "execution_count": 3
    }
   ],
   "source": [
    "bd.get_dividends('AAPL')"
   ]
  },
  {
   "cell_type": "code",
   "execution_count": 4,
   "metadata": {},
   "outputs": [
    {
     "output_type": "execute_result",
     "data": {
      "text/plain": "         Date  Stock Splits\n0  1987-05-11           0.0\n1  1987-06-16           2.0\n2  1987-08-10           0.0\n3  1987-11-17           0.0\n4  1988-02-12           0.0\n..        ...           ...\n66 2019-05-10           0.0\n67 2019-08-09           0.0\n68 2019-11-07           0.0\n69 2020-02-07           0.0\n70 2020-05-08           0.0\n\n[71 rows x 2 columns]",
      "text/html": "<div>\n<style scoped>\n    .dataframe tbody tr th:only-of-type {\n        vertical-align: middle;\n    }\n\n    .dataframe tbody tr th {\n        vertical-align: top;\n    }\n\n    .dataframe thead th {\n        text-align: right;\n    }\n</style>\n<table border=\"1\" class=\"dataframe\">\n  <thead>\n    <tr style=\"text-align: right;\">\n      <th></th>\n      <th>Date</th>\n      <th>Stock Splits</th>\n    </tr>\n  </thead>\n  <tbody>\n    <tr>\n      <th>0</th>\n      <td>1987-05-11</td>\n      <td>0.0</td>\n    </tr>\n    <tr>\n      <th>1</th>\n      <td>1987-06-16</td>\n      <td>2.0</td>\n    </tr>\n    <tr>\n      <th>2</th>\n      <td>1987-08-10</td>\n      <td>0.0</td>\n    </tr>\n    <tr>\n      <th>3</th>\n      <td>1987-11-17</td>\n      <td>0.0</td>\n    </tr>\n    <tr>\n      <th>4</th>\n      <td>1988-02-12</td>\n      <td>0.0</td>\n    </tr>\n    <tr>\n      <th>...</th>\n      <td>...</td>\n      <td>...</td>\n    </tr>\n    <tr>\n      <th>66</th>\n      <td>2019-05-10</td>\n      <td>0.0</td>\n    </tr>\n    <tr>\n      <th>67</th>\n      <td>2019-08-09</td>\n      <td>0.0</td>\n    </tr>\n    <tr>\n      <th>68</th>\n      <td>2019-11-07</td>\n      <td>0.0</td>\n    </tr>\n    <tr>\n      <th>69</th>\n      <td>2020-02-07</td>\n      <td>0.0</td>\n    </tr>\n    <tr>\n      <th>70</th>\n      <td>2020-05-08</td>\n      <td>0.0</td>\n    </tr>\n  </tbody>\n</table>\n<p>71 rows × 2 columns</p>\n</div>"
     },
     "metadata": {},
     "execution_count": 4
    }
   ],
   "source": [
    "bd.get_splits('AAPL')"
   ]
  }
 ]
}